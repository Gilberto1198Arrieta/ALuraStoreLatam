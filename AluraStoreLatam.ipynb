{
  "nbformat": 4,
  "nbformat_minor": 0,
  "metadata": {
    "colab": {
      "provenance": [],
      "include_colab_link": true
    },
    "kernelspec": {
      "name": "python3",
      "display_name": "Python 3"
    },
    "language_info": {
      "name": "python"
    }
  },
  "cells": [
    {
      "cell_type": "markdown",
      "metadata": {
        "id": "view-in-github",
        "colab_type": "text"
      },
      "source": [
        "<a href=\"https://colab.research.google.com/github/Gilberto1198Arrieta/ALuraStoreLatam/blob/main/AluraStoreLatam.ipynb\" target=\"_parent\"><img src=\"https://colab.research.google.com/assets/colab-badge.svg\" alt=\"Open In Colab\"/></a>"
      ]
    },
    {
      "cell_type": "markdown",
      "source": [
        "### Importación de datos\n",
        "\n"
      ],
      "metadata": {
        "id": "RhEdWd9YUR6H"
      }
    },
    {
      "cell_type": "code",
      "execution_count": null,
      "metadata": {
        "colab": {
          "base_uri": "https://localhost:8080/",
          "height": 206
        },
        "id": "T3EvaeQ_INIL",
        "outputId": "a4b485ff-b038-4920-e7a1-8f0200079c34"
      },
      "outputs": [
        {
          "output_type": "execute_result",
          "data": {
            "text/plain": [
              "            Producto Categoría del Producto    Precio  Costo de envío  \\\n",
              "0  Asistente virtual           Electrónicos  164300.0          6900.0   \n",
              "1    Mesa de comedor                Muebles  192300.0          8400.0   \n",
              "2      Juego de mesa               Juguetes  209600.0         15900.0   \n",
              "3         Microondas      Electrodomésticos  757500.0         41000.0   \n",
              "4   Silla de oficina                Muebles  335200.0         20200.0   \n",
              "\n",
              "  Fecha de Compra         Vendedor Lugar de Compra  Calificación  \\\n",
              "0      16/01/2021      Pedro Gomez          Bogotá             4   \n",
              "1      18/05/2022  Beatriz Morales        Medellín             1   \n",
              "2      15/03/2021   Juan Fernandez       Cartagena             1   \n",
              "3      03/05/2022   Juan Fernandez            Cali             4   \n",
              "4      07/11/2020    Maria Alfonso        Medellín             5   \n",
              "\n",
              "       Método de pago  Cantidad de cuotas       lat       lon  \n",
              "0  Tarjeta de crédito                   8   4.60971 -74.08175  \n",
              "1  Tarjeta de crédito                   4   6.25184 -75.56359  \n",
              "2  Tarjeta de crédito                   1  10.39972 -75.51444  \n",
              "3               Nequi                   1   3.43722 -76.52250  \n",
              "4               Nequi                   1   6.25184 -75.56359  "
            ],
            "text/html": [
              "\n",
              "  <div id=\"df-f0056066-053d-44b2-99c1-52460e36779c\" class=\"colab-df-container\">\n",
              "    <div>\n",
              "<style scoped>\n",
              "    .dataframe tbody tr th:only-of-type {\n",
              "        vertical-align: middle;\n",
              "    }\n",
              "\n",
              "    .dataframe tbody tr th {\n",
              "        vertical-align: top;\n",
              "    }\n",
              "\n",
              "    .dataframe thead th {\n",
              "        text-align: right;\n",
              "    }\n",
              "</style>\n",
              "<table border=\"1\" class=\"dataframe\">\n",
              "  <thead>\n",
              "    <tr style=\"text-align: right;\">\n",
              "      <th></th>\n",
              "      <th>Producto</th>\n",
              "      <th>Categoría del Producto</th>\n",
              "      <th>Precio</th>\n",
              "      <th>Costo de envío</th>\n",
              "      <th>Fecha de Compra</th>\n",
              "      <th>Vendedor</th>\n",
              "      <th>Lugar de Compra</th>\n",
              "      <th>Calificación</th>\n",
              "      <th>Método de pago</th>\n",
              "      <th>Cantidad de cuotas</th>\n",
              "      <th>lat</th>\n",
              "      <th>lon</th>\n",
              "    </tr>\n",
              "  </thead>\n",
              "  <tbody>\n",
              "    <tr>\n",
              "      <th>0</th>\n",
              "      <td>Asistente virtual</td>\n",
              "      <td>Electrónicos</td>\n",
              "      <td>164300.0</td>\n",
              "      <td>6900.0</td>\n",
              "      <td>16/01/2021</td>\n",
              "      <td>Pedro Gomez</td>\n",
              "      <td>Bogotá</td>\n",
              "      <td>4</td>\n",
              "      <td>Tarjeta de crédito</td>\n",
              "      <td>8</td>\n",
              "      <td>4.60971</td>\n",
              "      <td>-74.08175</td>\n",
              "    </tr>\n",
              "    <tr>\n",
              "      <th>1</th>\n",
              "      <td>Mesa de comedor</td>\n",
              "      <td>Muebles</td>\n",
              "      <td>192300.0</td>\n",
              "      <td>8400.0</td>\n",
              "      <td>18/05/2022</td>\n",
              "      <td>Beatriz Morales</td>\n",
              "      <td>Medellín</td>\n",
              "      <td>1</td>\n",
              "      <td>Tarjeta de crédito</td>\n",
              "      <td>4</td>\n",
              "      <td>6.25184</td>\n",
              "      <td>-75.56359</td>\n",
              "    </tr>\n",
              "    <tr>\n",
              "      <th>2</th>\n",
              "      <td>Juego de mesa</td>\n",
              "      <td>Juguetes</td>\n",
              "      <td>209600.0</td>\n",
              "      <td>15900.0</td>\n",
              "      <td>15/03/2021</td>\n",
              "      <td>Juan Fernandez</td>\n",
              "      <td>Cartagena</td>\n",
              "      <td>1</td>\n",
              "      <td>Tarjeta de crédito</td>\n",
              "      <td>1</td>\n",
              "      <td>10.39972</td>\n",
              "      <td>-75.51444</td>\n",
              "    </tr>\n",
              "    <tr>\n",
              "      <th>3</th>\n",
              "      <td>Microondas</td>\n",
              "      <td>Electrodomésticos</td>\n",
              "      <td>757500.0</td>\n",
              "      <td>41000.0</td>\n",
              "      <td>03/05/2022</td>\n",
              "      <td>Juan Fernandez</td>\n",
              "      <td>Cali</td>\n",
              "      <td>4</td>\n",
              "      <td>Nequi</td>\n",
              "      <td>1</td>\n",
              "      <td>3.43722</td>\n",
              "      <td>-76.52250</td>\n",
              "    </tr>\n",
              "    <tr>\n",
              "      <th>4</th>\n",
              "      <td>Silla de oficina</td>\n",
              "      <td>Muebles</td>\n",
              "      <td>335200.0</td>\n",
              "      <td>20200.0</td>\n",
              "      <td>07/11/2020</td>\n",
              "      <td>Maria Alfonso</td>\n",
              "      <td>Medellín</td>\n",
              "      <td>5</td>\n",
              "      <td>Nequi</td>\n",
              "      <td>1</td>\n",
              "      <td>6.25184</td>\n",
              "      <td>-75.56359</td>\n",
              "    </tr>\n",
              "  </tbody>\n",
              "</table>\n",
              "</div>\n",
              "    <div class=\"colab-df-buttons\">\n",
              "\n",
              "  <div class=\"colab-df-container\">\n",
              "    <button class=\"colab-df-convert\" onclick=\"convertToInteractive('df-f0056066-053d-44b2-99c1-52460e36779c')\"\n",
              "            title=\"Convert this dataframe to an interactive table.\"\n",
              "            style=\"display:none;\">\n",
              "\n",
              "  <svg xmlns=\"http://www.w3.org/2000/svg\" height=\"24px\" viewBox=\"0 -960 960 960\">\n",
              "    <path d=\"M120-120v-720h720v720H120Zm60-500h600v-160H180v160Zm220 220h160v-160H400v160Zm0 220h160v-160H400v160ZM180-400h160v-160H180v160Zm440 0h160v-160H620v160ZM180-180h160v-160H180v160Zm440 0h160v-160H620v160Z\"/>\n",
              "  </svg>\n",
              "    </button>\n",
              "\n",
              "  <style>\n",
              "    .colab-df-container {\n",
              "      display:flex;\n",
              "      gap: 12px;\n",
              "    }\n",
              "\n",
              "    .colab-df-convert {\n",
              "      background-color: #E8F0FE;\n",
              "      border: none;\n",
              "      border-radius: 50%;\n",
              "      cursor: pointer;\n",
              "      display: none;\n",
              "      fill: #1967D2;\n",
              "      height: 32px;\n",
              "      padding: 0 0 0 0;\n",
              "      width: 32px;\n",
              "    }\n",
              "\n",
              "    .colab-df-convert:hover {\n",
              "      background-color: #E2EBFA;\n",
              "      box-shadow: 0px 1px 2px rgba(60, 64, 67, 0.3), 0px 1px 3px 1px rgba(60, 64, 67, 0.15);\n",
              "      fill: #174EA6;\n",
              "    }\n",
              "\n",
              "    .colab-df-buttons div {\n",
              "      margin-bottom: 4px;\n",
              "    }\n",
              "\n",
              "    [theme=dark] .colab-df-convert {\n",
              "      background-color: #3B4455;\n",
              "      fill: #D2E3FC;\n",
              "    }\n",
              "\n",
              "    [theme=dark] .colab-df-convert:hover {\n",
              "      background-color: #434B5C;\n",
              "      box-shadow: 0px 1px 3px 1px rgba(0, 0, 0, 0.15);\n",
              "      filter: drop-shadow(0px 1px 2px rgba(0, 0, 0, 0.3));\n",
              "      fill: #FFFFFF;\n",
              "    }\n",
              "  </style>\n",
              "\n",
              "    <script>\n",
              "      const buttonEl =\n",
              "        document.querySelector('#df-f0056066-053d-44b2-99c1-52460e36779c button.colab-df-convert');\n",
              "      buttonEl.style.display =\n",
              "        google.colab.kernel.accessAllowed ? 'block' : 'none';\n",
              "\n",
              "      async function convertToInteractive(key) {\n",
              "        const element = document.querySelector('#df-f0056066-053d-44b2-99c1-52460e36779c');\n",
              "        const dataTable =\n",
              "          await google.colab.kernel.invokeFunction('convertToInteractive',\n",
              "                                                    [key], {});\n",
              "        if (!dataTable) return;\n",
              "\n",
              "        const docLinkHtml = 'Like what you see? Visit the ' +\n",
              "          '<a target=\"_blank\" href=https://colab.research.google.com/notebooks/data_table.ipynb>data table notebook</a>'\n",
              "          + ' to learn more about interactive tables.';\n",
              "        element.innerHTML = '';\n",
              "        dataTable['output_type'] = 'display_data';\n",
              "        await google.colab.output.renderOutput(dataTable, element);\n",
              "        const docLink = document.createElement('div');\n",
              "        docLink.innerHTML = docLinkHtml;\n",
              "        element.appendChild(docLink);\n",
              "      }\n",
              "    </script>\n",
              "  </div>\n",
              "\n",
              "\n",
              "    <div id=\"df-5e8fbb6e-542d-4b9a-a97c-fd1536d34582\">\n",
              "      <button class=\"colab-df-quickchart\" onclick=\"quickchart('df-5e8fbb6e-542d-4b9a-a97c-fd1536d34582')\"\n",
              "                title=\"Suggest charts\"\n",
              "                style=\"display:none;\">\n",
              "\n",
              "<svg xmlns=\"http://www.w3.org/2000/svg\" height=\"24px\"viewBox=\"0 0 24 24\"\n",
              "     width=\"24px\">\n",
              "    <g>\n",
              "        <path d=\"M19 3H5c-1.1 0-2 .9-2 2v14c0 1.1.9 2 2 2h14c1.1 0 2-.9 2-2V5c0-1.1-.9-2-2-2zM9 17H7v-7h2v7zm4 0h-2V7h2v10zm4 0h-2v-4h2v4z\"/>\n",
              "    </g>\n",
              "</svg>\n",
              "      </button>\n",
              "\n",
              "<style>\n",
              "  .colab-df-quickchart {\n",
              "      --bg-color: #E8F0FE;\n",
              "      --fill-color: #1967D2;\n",
              "      --hover-bg-color: #E2EBFA;\n",
              "      --hover-fill-color: #174EA6;\n",
              "      --disabled-fill-color: #AAA;\n",
              "      --disabled-bg-color: #DDD;\n",
              "  }\n",
              "\n",
              "  [theme=dark] .colab-df-quickchart {\n",
              "      --bg-color: #3B4455;\n",
              "      --fill-color: #D2E3FC;\n",
              "      --hover-bg-color: #434B5C;\n",
              "      --hover-fill-color: #FFFFFF;\n",
              "      --disabled-bg-color: #3B4455;\n",
              "      --disabled-fill-color: #666;\n",
              "  }\n",
              "\n",
              "  .colab-df-quickchart {\n",
              "    background-color: var(--bg-color);\n",
              "    border: none;\n",
              "    border-radius: 50%;\n",
              "    cursor: pointer;\n",
              "    display: none;\n",
              "    fill: var(--fill-color);\n",
              "    height: 32px;\n",
              "    padding: 0;\n",
              "    width: 32px;\n",
              "  }\n",
              "\n",
              "  .colab-df-quickchart:hover {\n",
              "    background-color: var(--hover-bg-color);\n",
              "    box-shadow: 0 1px 2px rgba(60, 64, 67, 0.3), 0 1px 3px 1px rgba(60, 64, 67, 0.15);\n",
              "    fill: var(--button-hover-fill-color);\n",
              "  }\n",
              "\n",
              "  .colab-df-quickchart-complete:disabled,\n",
              "  .colab-df-quickchart-complete:disabled:hover {\n",
              "    background-color: var(--disabled-bg-color);\n",
              "    fill: var(--disabled-fill-color);\n",
              "    box-shadow: none;\n",
              "  }\n",
              "\n",
              "  .colab-df-spinner {\n",
              "    border: 2px solid var(--fill-color);\n",
              "    border-color: transparent;\n",
              "    border-bottom-color: var(--fill-color);\n",
              "    animation:\n",
              "      spin 1s steps(1) infinite;\n",
              "  }\n",
              "\n",
              "  @keyframes spin {\n",
              "    0% {\n",
              "      border-color: transparent;\n",
              "      border-bottom-color: var(--fill-color);\n",
              "      border-left-color: var(--fill-color);\n",
              "    }\n",
              "    20% {\n",
              "      border-color: transparent;\n",
              "      border-left-color: var(--fill-color);\n",
              "      border-top-color: var(--fill-color);\n",
              "    }\n",
              "    30% {\n",
              "      border-color: transparent;\n",
              "      border-left-color: var(--fill-color);\n",
              "      border-top-color: var(--fill-color);\n",
              "      border-right-color: var(--fill-color);\n",
              "    }\n",
              "    40% {\n",
              "      border-color: transparent;\n",
              "      border-right-color: var(--fill-color);\n",
              "      border-top-color: var(--fill-color);\n",
              "    }\n",
              "    60% {\n",
              "      border-color: transparent;\n",
              "      border-right-color: var(--fill-color);\n",
              "    }\n",
              "    80% {\n",
              "      border-color: transparent;\n",
              "      border-right-color: var(--fill-color);\n",
              "      border-bottom-color: var(--fill-color);\n",
              "    }\n",
              "    90% {\n",
              "      border-color: transparent;\n",
              "      border-bottom-color: var(--fill-color);\n",
              "    }\n",
              "  }\n",
              "</style>\n",
              "\n",
              "      <script>\n",
              "        async function quickchart(key) {\n",
              "          const quickchartButtonEl =\n",
              "            document.querySelector('#' + key + ' button');\n",
              "          quickchartButtonEl.disabled = true;  // To prevent multiple clicks.\n",
              "          quickchartButtonEl.classList.add('colab-df-spinner');\n",
              "          try {\n",
              "            const charts = await google.colab.kernel.invokeFunction(\n",
              "                'suggestCharts', [key], {});\n",
              "          } catch (error) {\n",
              "            console.error('Error during call to suggestCharts:', error);\n",
              "          }\n",
              "          quickchartButtonEl.classList.remove('colab-df-spinner');\n",
              "          quickchartButtonEl.classList.add('colab-df-quickchart-complete');\n",
              "        }\n",
              "        (() => {\n",
              "          let quickchartButtonEl =\n",
              "            document.querySelector('#df-5e8fbb6e-542d-4b9a-a97c-fd1536d34582 button');\n",
              "          quickchartButtonEl.style.display =\n",
              "            google.colab.kernel.accessAllowed ? 'block' : 'none';\n",
              "        })();\n",
              "      </script>\n",
              "    </div>\n",
              "\n",
              "    </div>\n",
              "  </div>\n"
            ],
            "application/vnd.google.colaboratory.intrinsic+json": {
              "type": "dataframe",
              "variable_name": "tienda",
              "summary": "{\n  \"name\": \"tienda\",\n  \"rows\": 2359,\n  \"fields\": [\n    {\n      \"column\": \"Producto\",\n      \"properties\": {\n        \"dtype\": \"category\",\n        \"num_unique_values\": 51,\n        \"samples\": [\n          \"Guitarra ac\\u00fastica\",\n          \"Bal\\u00f3n de baloncesto\",\n          \"Smartwatch\"\n        ],\n        \"semantic_type\": \"\",\n        \"description\": \"\"\n      }\n    },\n    {\n      \"column\": \"Categor\\u00eda del Producto\",\n      \"properties\": {\n        \"dtype\": \"category\",\n        \"num_unique_values\": 8,\n        \"samples\": [\n          \"Muebles\",\n          \"Deportes y diversi\\u00f3n\",\n          \"Electr\\u00f3nicos\"\n        ],\n        \"semantic_type\": \"\",\n        \"description\": \"\"\n      }\n    },\n    {\n      \"column\": \"Precio\",\n      \"properties\": {\n        \"dtype\": \"number\",\n        \"std\": 614686.7653873172,\n        \"min\": 7600.0,\n        \"max\": 2977000.0,\n        \"num_unique_values\": 1937,\n        \"samples\": [\n          2499400.0,\n          14800.0,\n          80500.0\n        ],\n        \"semantic_type\": \"\",\n        \"description\": \"\"\n      }\n    },\n    {\n      \"column\": \"Costo de env\\u00edo\",\n      \"properties\": {\n        \"dtype\": \"number\",\n        \"std\": 32860.0017825605,\n        \"min\": 0.0,\n        \"max\": 160800.0,\n        \"num_unique_values\": 753,\n        \"samples\": [\n          117800.0,\n          54700.0,\n          45600.0\n        ],\n        \"semantic_type\": \"\",\n        \"description\": \"\"\n      }\n    },\n    {\n      \"column\": \"Fecha de Compra\",\n      \"properties\": {\n        \"dtype\": \"object\",\n        \"num_unique_values\": 1018,\n        \"samples\": [\n          \"15/09/2022\",\n          \"03/06/2020\",\n          \"06/11/2021\"\n        ],\n        \"semantic_type\": \"\",\n        \"description\": \"\"\n      }\n    },\n    {\n      \"column\": \"Vendedor\",\n      \"properties\": {\n        \"dtype\": \"category\",\n        \"num_unique_values\": 14,\n        \"samples\": [\n          \"Juliana Costa\",\n          \"Mariana Herrera\",\n          \"Pedro Gomez\"\n        ],\n        \"semantic_type\": \"\",\n        \"description\": \"\"\n      }\n    },\n    {\n      \"column\": \"Lugar de Compra\",\n      \"properties\": {\n        \"dtype\": \"category\",\n        \"num_unique_values\": 19,\n        \"samples\": [\n          \"Bogot\\u00e1\",\n          \"Pereira\",\n          \"Neiva\"\n        ],\n        \"semantic_type\": \"\",\n        \"description\": \"\"\n      }\n    },\n    {\n      \"column\": \"Calificaci\\u00f3n\",\n      \"properties\": {\n        \"dtype\": \"number\",\n        \"std\": 1,\n        \"min\": 1,\n        \"max\": 5,\n        \"num_unique_values\": 5,\n        \"samples\": [\n          1,\n          2,\n          5\n        ],\n        \"semantic_type\": \"\",\n        \"description\": \"\"\n      }\n    },\n    {\n      \"column\": \"M\\u00e9todo de pago\",\n      \"properties\": {\n        \"dtype\": \"category\",\n        \"num_unique_values\": 4,\n        \"samples\": [\n          \"Nequi\",\n          \"Tarjeta de d\\u00e9bito\",\n          \"Tarjeta de cr\\u00e9dito\"\n        ],\n        \"semantic_type\": \"\",\n        \"description\": \"\"\n      }\n    },\n    {\n      \"column\": \"Cantidad de cuotas\",\n      \"properties\": {\n        \"dtype\": \"number\",\n        \"std\": 2,\n        \"min\": 1,\n        \"max\": 24,\n        \"num_unique_values\": 15,\n        \"samples\": [\n          7,\n          14,\n          8\n        ],\n        \"semantic_type\": \"\",\n        \"description\": \"\"\n      }\n    },\n    {\n      \"column\": \"lat\",\n      \"properties\": {\n        \"dtype\": \"number\",\n        \"std\": 2.2874452492678627,\n        \"min\": -4.21528,\n        \"max\": 11.54444,\n        \"num_unique_values\": 19,\n        \"samples\": [\n          4.60971,\n          4.81333,\n          2.9273\n        ],\n        \"semantic_type\": \"\",\n        \"description\": \"\"\n      }\n    },\n    {\n      \"column\": \"lon\",\n      \"properties\": {\n        \"dtype\": \"number\",\n        \"std\": 1.2178272727088486,\n        \"min\": -77.28111,\n        \"max\": -67.9239,\n        \"num_unique_values\": 19,\n        \"samples\": [\n          -74.08175,\n          -75.69611,\n          -75.28189\n        ],\n        \"semantic_type\": \"\",\n        \"description\": \"\"\n      }\n    }\n  ]\n}"
            }
          },
          "metadata": {},
          "execution_count": 3
        }
      ],
      "source": [
        "import pandas as pd\n",
        "\n",
        "url = \"https://raw.githubusercontent.com/alura-es-cursos/challenge1-data-science-latam/refs/heads/main/base-de-datos-challenge1-latam/tienda_1%20.csv\"\n",
        "url2 = \"https://raw.githubusercontent.com/alura-es-cursos/challenge1-data-science-latam/refs/heads/main/base-de-datos-challenge1-latam/tienda_2.csv\"\n",
        "url3 = \"https://raw.githubusercontent.com/alura-es-cursos/challenge1-data-science-latam/refs/heads/main/base-de-datos-challenge1-latam/tienda_3.csv\"\n",
        "url4 = \"https://raw.githubusercontent.com/alura-es-cursos/challenge1-data-science-latam/refs/heads/main/base-de-datos-challenge1-latam/tienda_4.csv\"\n",
        "\n",
        "tienda = pd.read_csv(url)\n",
        "tienda2 = pd.read_csv(url2)\n",
        "tienda3 = pd.read_csv(url3)\n",
        "tienda4 = pd.read_csv(url4)\n",
        "\n",
        "tienda.head()"
      ]
    },
    {
      "cell_type": "markdown",
      "source": [
        "#1. Análisis de facturación\n",
        "\n"
      ],
      "metadata": {
        "id": "X62IW3KFUIYm"
      }
    },
    {
      "cell_type": "code",
      "source": [
        "ingreso_total = tienda['Precio'].sum()\n",
        "print(f'Los ingresos totales de tienda 1 es: {ingreso_total}')\n",
        "\n",
        "ingreso_total = tienda2['Precio'].sum()\n",
        "print(f'Los ingresos totales de tienda 2 es:: {ingreso_total}')\n",
        "\n",
        "ingreso_total = tienda3['Precio'].sum()\n",
        "print(f'Los ingresos totales de tienda 3 es:: {ingreso_total}')\n",
        "\n",
        "ingreso_total = tienda4['Precio'].sum()\n",
        "print(f'Los ingresos totales de tienda 4 es: {ingreso_total}')"
      ],
      "metadata": {
        "id": "pabqjq-ADzjl",
        "colab": {
          "base_uri": "https://localhost:8080/"
        },
        "outputId": "d63bbb9b-8766-48ce-a83f-4a4b9177704d"
      },
      "execution_count": null,
      "outputs": [
        {
          "output_type": "stream",
          "name": "stdout",
          "text": [
            "Los ingresos totales de tienda 1 es: 1150880400.0\n",
            "Los ingresos totales de tienda 2 es:: 1116343500.0\n",
            "Los ingresos totales de tienda 3 es:: 1098019600.0\n",
            "Los ingresos totales de tienda 4 es: 1038375700.0\n"
          ]
        }
      ]
    },
    {
      "cell_type": "code",
      "source": [
        "from matplotlib import pyplot as plt\n",
        "ingresos_totales = ['0','1.038.375.700', '1.098.019.600', '1.116.343.500', '1.150.880.400']\n",
        "tiendas = ['','Tienda 4', 'Tienda 3', 'Tienda 2', 'Tienda 1']\n",
        "colores = ['pink', 'blue', 'darkgreen', 'orange', 'red']\n",
        "\n",
        "plt.bar(x= tiendas, height=ingresos_totales, color=colores)\n",
        "plt.show()\n",
        "\n",
        "#Aquí aplico el codigo para graficos en barras verticales, todo esto es a gusto"
      ],
      "metadata": {
        "id": "J_UVY6M-DzY6",
        "colab": {
          "base_uri": "https://localhost:8080/",
          "height": 430
        },
        "outputId": "1405ebe5-978d-4cc1-9b98-73e68023ac00"
      },
      "execution_count": null,
      "outputs": [
        {
          "output_type": "display_data",
          "data": {
            "text/plain": [
              "<Figure size 640x480 with 1 Axes>"
            ],
            "image/png": "[encoded data removed]"
          },
          "metadata": {}
        }
      ]
    },
    {
      "cell_type": "markdown",
      "source": [
        "# 2. Ventas por categoría"
      ],
      "metadata": {
        "id": "2V_vcAPzWZmR"
      }
    },
    {
      "cell_type": "code",
      "source": [
        "Conteo_Tienda = tienda[\"Categoría del Producto\"].value_counts().reset_index()\n",
        "Conteo_Tienda.columns = [\"Categoría del Producto\", \"Cantidad por ventas\"]\n",
        "print(Conteo_Tienda)"
      ],
      "metadata": {
        "id": "_hoOToHPZUdX",
        "colab": {
          "base_uri": "https://localhost:8080/"
        },
        "outputId": "321bc99a-736b-4b22-fb32-ffbb289c04b6"
      },
      "execution_count": null,
      "outputs": [
        {
          "output_type": "stream",
          "name": "stdout",
          "text": [
            "    Categoría del Producto  Cantidad por ventas\n",
            "0                  Muebles                  465\n",
            "1             Electrónicos                  448\n",
            "2                 Juguetes                  324\n",
            "3        Electrodomésticos                  312\n",
            "4     Deportes y diversión                  284\n",
            "5   Instrumentos musicales                  182\n",
            "6                   Libros                  173\n",
            "7  Artículos para el hogar                  171\n"
          ]
        }
      ]
    },
    {
      "cell_type": "code",
      "source": [
        "Conteo_Tienda2 = tienda2[\"Categoría del Producto\"].value_counts().reset_index()\n",
        "Conteo_Tienda2.columns = [\"Categoría del Producto\", \"Cantidad por ventas\"]\n",
        "print(Conteo_Tienda2)\n"
      ],
      "metadata": {
        "colab": {
          "base_uri": "https://localhost:8080/"
        },
        "id": "60GRTLTFrEge",
        "outputId": "ab1590a8-9f48-4737-d6ce-a0814cab379c"
      },
      "execution_count": null,
      "outputs": [
        {
          "output_type": "stream",
          "name": "stdout",
          "text": [
            "    Categoría del Producto  Cantidad por ventas\n",
            "0                  Muebles                  442\n",
            "1             Electrónicos                  422\n",
            "2                 Juguetes                  313\n",
            "3        Electrodomésticos                  305\n",
            "4     Deportes y diversión                  275\n",
            "5   Instrumentos musicales                  224\n",
            "6                   Libros                  197\n",
            "7  Artículos para el hogar                  181\n"
          ]
        }
      ]
    },
    {
      "cell_type": "code",
      "source": [
        "Conteo_Tienda3 = tienda3[\"Categoría del Producto\"].value_counts().reset_index()\n",
        "Conteo_Tienda3.columns = [\"Categoría del Producto\", \"Cantidad por ventas\"]\n",
        "print(Conteo_Tienda3)"
      ],
      "metadata": {
        "colab": {
          "base_uri": "https://localhost:8080/"
        },
        "id": "janIZRyGuAvh",
        "outputId": "4f1a760b-adb2-4e58-e751-659ead234cd3"
      },
      "execution_count": null,
      "outputs": [
        {
          "output_type": "stream",
          "name": "stdout",
          "text": [
            "    Categoría del Producto  Cantidad por ventas\n",
            "0                  Muebles                  499\n",
            "1             Electrónicos                  451\n",
            "2                 Juguetes                  315\n",
            "3        Electrodomésticos                  278\n",
            "4     Deportes y diversión                  277\n",
            "5                   Libros                  185\n",
            "6   Instrumentos musicales                  177\n",
            "7  Artículos para el hogar                  177\n"
          ]
        }
      ]
    },
    {
      "cell_type": "code",
      "source": [
        "Conteo_Tienda4 = tienda4[\"Categoría del Producto\"].value_counts().reset_index()\n",
        "Conteo_Tienda4.columns = [\"Categoría del Producto\", \"Cantidad por ventas\"]\n",
        "print(Conteo_Tienda4)"
      ],
      "metadata": {
        "colab": {
          "base_uri": "https://localhost:8080/"
        },
        "id": "gPh-HIJGuJs6",
        "outputId": "801fa933-9283-4e6f-e753-09b01b5dbefd"
      },
      "execution_count": null,
      "outputs": [
        {
          "output_type": "stream",
          "name": "stdout",
          "text": [
            "    Categoría del Producto  Cantidad por ventas\n",
            "0                  Muebles                  480\n",
            "1             Electrónicos                  451\n",
            "2                 Juguetes                  338\n",
            "3     Deportes y diversión                  277\n",
            "4        Electrodomésticos                  254\n",
            "5  Artículos para el hogar                  201\n",
            "6                   Libros                  187\n",
            "7   Instrumentos musicales                  170\n"
          ]
        }
      ]
    },
    {
      "cell_type": "code",
      "source": [
        "import numpy as np\n",
        "import matplotlib.pyplot as plt\n",
        "\n",
        "Tiendas = (\"Tienda1\", \"Tienda2\", \"Tienda3\" , \"Tienda4\")\n",
        "Tiendas_means = {\n",
        "    'Muebles': (465, 442, 499, 480),\n",
        "    'Electrónicos': (448, 422, 451, 451),\n",
        "    'Juguetes': (324, 313, 315, 338),\n",
        "    'Deportes y diversión': (284, 275, 277, 277),\n",
        "    'Electrodomésticos':(312, 305, 278, 254),\n",
        "    'Artículos para el hogar':(171, 181, 177, 170),\n",
        "    'Libros': (173,197,185,187),\n",
        "    'Instrumentos musicales': (182,224,177,170)\n",
        "}\n",
        "\n",
        "x = np.arange(len(Tiendas))  # las etiquetas de las barras\n",
        "width = 0.1  # el ancho de las barras\n",
        "multiplier = 0\n",
        "\n",
        "fig, ax = plt.subplots(figsize=(10, 6), layout='constrained') # Ajusté el tamaño de la figura para mejor visualización\n",
        "\n",
        "for attribute, measurement in Tiendas_means.items():\n",
        "    offset = width * multiplier\n",
        "    rects = ax.bar(x + offset, measurement, width, label=attribute)\n",
        "    ax.bar_label(rects, padding=2, fontsize=8) # Ajusté el tamaño de la etiqueta para mejor visualización\n",
        "    multiplier += 1\n",
        "\n",
        "# Añadir etiquetas, título y etiquetas personalizadas para el eje x\n",
        "ax.set_ylabel('Cantidades por ventas')\n",
        "ax.set_title('Comparativa de Ventas por Categoría en Tiendas')\n",
        "ax.set_xticks(x + width * (len(Tiendas_means) - 2) / 2, Tiendas) # Centrar las etiquetas del eje x\n",
        "ax.legend(loc='upper left', ncols=3, fontsize=10) # Ajusté el tamaño de la leyenda para mejor visualización\n",
        "ax.set_ylim(0, 600)\n",
        "\n",
        "plt.show()"
      ],
      "metadata": {
        "id": "B0AOxrMp5BMt",
        "outputId": "8b510bae-3542-45d4-e9a0-aa2f3d06281a",
        "colab": {
          "base_uri": "https://localhost:8080/",
          "height": 201
        }
      },
      "execution_count": null,
      "outputs": [
        {
          "output_type": "display_data",
          "data": {
            "text/plain": [
              "<Figure size 1000x600 with 1 Axes>"
            ],
            "image/png": "[encoded data removed]"
          },
          "metadata": {}
        }
      ]
    },
    {
      "cell_type": "markdown",
      "source": [
        "# 3. Calificación promedio de la tienda\n"
      ],
      "metadata": {
        "id": "Rq6tU_xSY3jk"
      }
    },
    {
      "cell_type": "code",
      "source": [
        "import pandas as pd\n",
        "\n",
        "tiendas = tienda, tienda2, tienda3, tienda4\n",
        "def calificacion_tiendas(tienda, tienda2, tienda3, tienda4):\n",
        "  promedio_tienda1 = tienda['Calificación'].mean() #.mean()calcula el promedio automáticamente (suma / cantidad de elementos).\n",
        "  promedio_tienda2 = tienda2['Calificación'].mean()\n",
        "  promedio_tienda3 = tienda3['Calificación'].mean()\n",
        "  promedio_tienda4 = tienda4['Calificación'].mean()\n",
        "  print(f'La calificación promedio de la tienda 1 es: {promedio_tienda1}')\n",
        "  print(f'La calificación promedio de la tienda 2 es: {promedio_tienda2}')\n",
        "  print(f'La calificación promedio de la tienda 3 es: {promedio_tienda3}')\n",
        "  print(f'La calificación promedio de la tienda 4 es: {promedio_tienda4}')\n",
        "\n"
      ],
      "metadata": {
        "id": "37Mrjq0YqLm-"
      },
      "execution_count": null,
      "outputs": []
    },
    {
      "cell_type": "code",
      "source": [
        "calificacion_tiendas(tienda, tienda2, tienda3, tienda4)\n"
      ],
      "metadata": {
        "colab": {
          "base_uri": "https://localhost:8080/"
        },
        "id": "iQP-bK1UFnLJ",
        "outputId": "e041f45d-d0c5-4a74-c2e0-8d08dbd517ea"
      },
      "execution_count": null,
      "outputs": [
        {
          "output_type": "stream",
          "name": "stdout",
          "text": [
            "La calificación promedio de la tienda 1 es: 3.976685036032217\n",
            "La calificación promedio de la tienda 2 es: 4.037303942348453\n",
            "La calificación promedio de la tienda 3 es: 4.048325561678677\n",
            "La calificación promedio de la tienda 4 es: 3.9957591178965224\n"
          ]
        }
      ]
    },
    {
      "cell_type": "code",
      "source": [
        "tienda_1 = 3.976685036032217\n",
        "tienda_2 = 4.037303942348453\n",
        "tienda_3 = 4.048325561678677\n",
        "tienda_4 = 3.9957591178965224\n",
        "\n",
        "redondeo = round(tienda_1, 2,)\n",
        "redondeo2 = round(tienda_2, 2,)\n",
        "redondeo3 = round(tienda_3, 2,)\n",
        "redondeo4 = round(tienda_4, 2,)\n",
        "\n",
        "\n",
        "print(redondeo, redondeo2, redondeo3, redondeo4)\n"
      ],
      "metadata": {
        "colab": {
          "base_uri": "https://localhost:8080/"
        },
        "id": "9J0PQZeJjGSG",
        "outputId": "51a6860e-3589-4236-9e95-6ad9b527b28a"
      },
      "execution_count": null,
      "outputs": [
        {
          "output_type": "stream",
          "name": "stdout",
          "text": [
            "3.98 4.04 4.05 4.0\n"
          ]
        }
      ]
    },
    {
      "cell_type": "code",
      "source": [
        "from matplotlib import pyplot as plt\n",
        "\n",
        "calificacion_tiendas = [3.98, 4.04, 4.05, 4.0]\n",
        "tiendas = ['Tienda 1', 'Tienda 2', 'Tienda 3', 'Tienda 4']\n",
        "colores = ['red', 'lightblue', 'green', 'orange',]\n",
        "\n",
        "plt.bar(x=tiendas, height=calificacion_tiendas, color=colores)\n",
        "plt.show()"
      ],
      "metadata": {
        "colab": {
          "base_uri": "https://localhost:8080/",
          "height": 430
        },
        "id": "z_orYf_xLgyw",
        "outputId": "5842dbca-27f9-41ec-ec1f-11565503d10b"
      },
      "execution_count": null,
      "outputs": [
        {
          "output_type": "display_data",
          "data": {
            "text/plain": [
              "<Figure size 640x480 with 1 Axes>"
            ],
            "image/png": "[encoded data removed]"
          },
          "metadata": {}
        }
      ]
    },
    {
      "cell_type": "markdown",
      "source": [
        "# 4. Productos más y menos vendidos"
      ],
      "metadata": {
        "id": "DmNp1KPBZCm-"
      }
    },
    {
      "cell_type": "code",
      "source": [
        "\n",
        "import pandas as pd\n",
        "tiendas = tienda\n",
        "Producto_mas_vendido1 = tienda['Producto'].value_counts().reset_index() #El método\n",
        "# .value_counts() en pandas se usa para contar cuántas veces aparece cada valor único en una columna de un DataFrame o en una Serie.\n",
        "Producto_mas_vendido1.columns =['Producto', 'Cantidad de veces vendidas']\n",
        "print(Producto_mas_vendido1)\n",
        "\n",
        "Productos_mas_vendidos = Producto_mas_vendido1['Cantidad de veces vendidas'] > 50\n",
        "productos_altas_ventas = Producto_mas_vendido1[Productos_mas_vendidos]\n",
        "\n",
        "\n",
        "if not productos_altas_ventas.empty:\n",
        "    print(f'Productos más vendidos en Tienda 1: {productos_altas_ventas}')\n",
        "else:\n",
        "    print(\"\\nNo hay productos con más de 58 ventas en Tienda 1.\")\n"
      ],
      "metadata": {
        "id": "psK-RsurFmZY",
        "colab": {
          "base_uri": "https://localhost:8080/"
        },
        "outputId": "f9b5dfca-a323-40d8-a40f-f27d6fb8fce6",
        "collapsed": true
      },
      "execution_count": null,
      "outputs": [
        {
          "output_type": "stream",
          "name": "stdout",
          "text": [
            "                       Producto  Cantidad de veces vendidas\n",
            "0                    Microondas                          60\n",
            "1                 TV LED UHD 4K                          60\n",
            "2                       Armario                          60\n",
            "3              Secadora de ropa                          58\n",
            "4                 Mesa de noche                          56\n",
            "5       Bloques de construcción                          56\n",
            "6           Balón de baloncesto                          55\n",
            "7                     Bicicleta                          54\n",
            "8                  Vaso térmico                          54\n",
            "9                  Refrigerador                          54\n",
            "10                    Impresora                          54\n",
            "11                      Batería                          53\n",
            "12                   Cubertería                          52\n",
            "13    Carrito de control remoto                          52\n",
            "14          Modelado predictivo                          51\n",
            "15                  Auriculares                          50\n",
            "16            Ajedrez de madera                          49\n",
            "17                    Iphone 15                          49\n",
            "18                 Lavavajillas                          48\n",
            "19             Lavadora de ropa                          47\n",
            "20           Guitarra eléctrica                          47\n",
            "21            Guitarra acústica                          46\n",
            "22              Sofá reclinable                          46\n",
            "23             Silla de oficina                          46\n",
            "24                       Estufa                          45\n",
            "25                     Cama box                          44\n",
            "26                Kit de bancas                          44\n",
            "27                     Smart TV                          44\n",
            "28                    Cama king                          44\n",
            "29              Cubo mágico 8x8                          44\n",
            "30               Mesa de centro                          44\n",
            "31                 Set de ollas                          43\n",
            "32                   Smartwatch                          43\n",
            "33                Juego de mesa                          43\n",
            "34            Balón de voleibol                          42\n",
            "35      Dashboards con Power BI                          42\n",
            "36                  Tablet ABXY                          42\n",
            "37                       Sillón                          41\n",
            "38    Iniciando en programación                          41\n",
            "39                 Set de vasos                          41\n",
            "40            Asistente virtual                          40\n",
            "41                  Muñeca bebé                          40\n",
            "42              Mesa de comedor                          40\n",
            "43               Dinosaurio Rex                          40\n",
            "44           Cuerda para saltar                          40\n",
            "45                      Mochila                          39\n",
            "46  Ciencia de datos con Python                          39\n",
            "47                    Pandereta                          36\n",
            "48              Olla de presión                          35\n",
            "49    Auriculares con micrófono                          33\n",
            "50                 Celular ABXY                          33\n",
            "Productos más vendidos en Tienda 1:                      Producto  Cantidad de veces vendidas\n",
            "0                  Microondas                          60\n",
            "1               TV LED UHD 4K                          60\n",
            "2                     Armario                          60\n",
            "3            Secadora de ropa                          58\n",
            "4               Mesa de noche                          56\n",
            "5     Bloques de construcción                          56\n",
            "6         Balón de baloncesto                          55\n",
            "7                   Bicicleta                          54\n",
            "8                Vaso térmico                          54\n",
            "9                Refrigerador                          54\n",
            "10                  Impresora                          54\n",
            "11                    Batería                          53\n",
            "12                 Cubertería                          52\n",
            "13  Carrito de control remoto                          52\n",
            "14        Modelado predictivo                          51\n"
          ]
        }
      ]
    },
    {
      "cell_type": "code",
      "source": [
        "tiendas = tienda2\n",
        "Producto_mas_vendido2 = tienda2['Producto'].value_counts().reset_index() #El método\n",
        "# .value_counts() en pandas se usa para contar cuántas veces aparece cada valor único en una columna de un DataFrame o en una Serie.\n",
        "Producto_mas_vendido2.columns =['Producto', 'Cantidad de veces vendidas']\n",
        "print(Producto_mas_vendido2)\n",
        "\n",
        "Productos_mas_vendidos = Producto_mas_vendido2['Cantidad de veces vendidas'] > 50\n",
        "productos_altas_ventas = Producto_mas_vendido2[Productos_mas_vendidos]\n",
        "\n",
        "# este if es a mi gusto\n",
        "if not productos_altas_ventas.empty:\n",
        "    print(f'Productos más vendidos en Tienda 1: {productos_altas_ventas}')\n",
        "else:\n",
        "    print(\"\\nNo hay productos con más de 58 ventas en Tienda 1.\")"
      ],
      "metadata": {
        "id": "0Sw3sd4IZIGW",
        "colab": {
          "base_uri": "https://localhost:8080/"
        },
        "outputId": "d557622b-265a-4ea5-f17a-72cc037da51f"
      },
      "execution_count": null,
      "outputs": [
        {
          "output_type": "stream",
          "name": "stdout",
          "text": [
            "                       Producto  Cantidad de veces vendidas\n",
            "0     Iniciando en programación                          65\n",
            "1                    Microondas                          62\n",
            "2                       Batería                          61\n",
            "3             Guitarra acústica                          58\n",
            "4                     Pandereta                          58\n",
            "5              Secadora de ropa                          57\n",
            "6                     Iphone 15                          55\n",
            "7       Bloques de construcción                          54\n",
            "8                       Armario                          54\n",
            "9                  Set de ollas                          52\n",
            "10           Cuerda para saltar                          50\n",
            "11             Lavadora de ropa                          49\n",
            "12             Silla de oficina                          49\n",
            "13                 Refrigerador                          49\n",
            "14                  Muñeca bebé                          48\n",
            "15    Carrito de control remoto                          47\n",
            "16           Guitarra eléctrica                          47\n",
            "17                     Cama box                          47\n",
            "18                 Vaso térmico                          47\n",
            "19          Modelado predictivo                          46\n",
            "20            Balón de voleibol                          46\n",
            "21                 Set de vasos                          46\n",
            "22                 Lavavajillas                          46\n",
            "23                Kit de bancas                          45\n",
            "24                    Cama king                          45\n",
            "25                    Bicicleta                          45\n",
            "26                      Mochila                          45\n",
            "27              Cubo mágico 8x8                          45\n",
            "28            Ajedrez de madera                          45\n",
            "29               Mesa de centro                          45\n",
            "30                TV LED UHD 4K                          45\n",
            "31                  Tablet ABXY                          44\n",
            "32                   Smartwatch                          44\n",
            "33                Mesa de noche                          44\n",
            "34              Olla de presión                          44\n",
            "35    Auriculares con micrófono                          44\n",
            "36              Sofá reclinable                          44\n",
            "37      Dashboards con Power BI                          43\n",
            "38  Ciencia de datos con Python                          43\n",
            "39          Balón de baloncesto                          42\n",
            "40                       Estufa                          42\n",
            "41               Dinosaurio Rex                          42\n",
            "42                 Celular ABXY                          41\n",
            "43                     Smart TV                          40\n",
            "44                   Cubertería                          39\n",
            "45            Asistente virtual                          38\n",
            "46                  Auriculares                          37\n",
            "47                       Sillón                          35\n",
            "48              Mesa de comedor                          34\n",
            "49                    Impresora                          34\n",
            "50                Juego de mesa                          32\n",
            "Productos más vendidos en Tienda 1:                     Producto  Cantidad de veces vendidas\n",
            "0  Iniciando en programación                          65\n",
            "1                 Microondas                          62\n",
            "2                    Batería                          61\n",
            "3          Guitarra acústica                          58\n",
            "4                  Pandereta                          58\n",
            "5           Secadora de ropa                          57\n",
            "6                  Iphone 15                          55\n",
            "7    Bloques de construcción                          54\n",
            "8                    Armario                          54\n",
            "9               Set de ollas                          52\n"
          ]
        }
      ]
    },
    {
      "cell_type": "code",
      "source": [
        "tiendas = tienda\n",
        "Producto_mas_vendido3 = tienda3['Producto'].value_counts().reset_index() #El método\n",
        "# .value_counts() en pandas se usa para contar cuántas veces aparece cada valor único en una columna de un DataFrame o en una Serie.\n",
        "Producto_mas_vendido3.columns =['Producto', 'Cantidad de veces vendidas']\n",
        "print(Producto_mas_vendido3)\n",
        "\n",
        "Productos_mas_vendidos = Producto_mas_vendido3['Cantidad de veces vendidas'] > 50\n",
        "productos_altas_ventas = Producto_mas_vendido3[Productos_mas_vendidos]\n",
        "\n",
        "# este if es a mi gusto\n",
        "if not productos_altas_ventas.empty:\n",
        "    print(f'Productos más vendidos en Tienda 1: {productos_altas_ventas}')\n",
        "else:\n",
        "    print(\"\\nNo hay productos con más de 58 ventas en Tienda 1.\")"
      ],
      "metadata": {
        "colab": {
          "base_uri": "https://localhost:8080/"
        },
        "id": "aeHDcndAWZDL",
        "outputId": "5fb94211-bcf0-4b2c-b12d-fda485247846"
      },
      "execution_count": null,
      "outputs": [
        {
          "output_type": "stream",
          "name": "stdout",
          "text": [
            "                       Producto  Cantidad de veces vendidas\n",
            "0                 Kit de bancas                          57\n",
            "1               Mesa de comedor                          56\n",
            "2                     Cama king                          56\n",
            "3                  Set de ollas                          55\n",
            "4                 Mesa de noche                          55\n",
            "5                      Smart TV                          54\n",
            "6                        Estufa                          53\n",
            "7            Cuerda para saltar                          53\n",
            "8           Modelado predictivo                          53\n",
            "9     Carrito de control remoto                          52\n",
            "10                 Lavavajillas                          52\n",
            "11                    Bicicleta                          52\n",
            "12                Juego de mesa                          52\n",
            "13                    Pandereta                          51\n",
            "14                    Impresora                          50\n",
            "15                 Refrigerador                          50\n",
            "16          Balón de baloncesto                          50\n",
            "17                      Armario                          49\n",
            "18            Balón de voleibol                          48\n",
            "19                  Tablet ABXY                          48\n",
            "20                       Sillón                          47\n",
            "21            Guitarra acústica                          47\n",
            "22              Olla de presión                          47\n",
            "23            Ajedrez de madera                          47\n",
            "24  Ciencia de datos con Python                          46\n",
            "25                    Iphone 15                          46\n",
            "26               Dinosaurio Rex                          46\n",
            "27             Silla de oficina                          46\n",
            "28                   Smartwatch                          46\n",
            "29                     Cama box                          46\n",
            "30    Iniciando en programación                          46\n",
            "31             Secadora de ropa                          45\n",
            "32              Sofá reclinable                          45\n",
            "33                 Celular ABXY                          44\n",
            "34              Cubo mágico 8x8                          44\n",
            "35                  Auriculares                          43\n",
            "36                TV LED UHD 4K                          42\n",
            "37               Mesa de centro                          42\n",
            "38             Lavadora de ropa                          42\n",
            "39                      Batería                          41\n",
            "40      Dashboards con Power BI                          40\n",
            "41                   Cubertería                          39\n",
            "42                  Muñeca bebé                          39\n",
            "43    Auriculares con micrófono                          39\n",
            "44            Asistente virtual                          39\n",
            "45                 Vaso térmico                          38\n",
            "46           Guitarra eléctrica                          38\n",
            "47                 Set de vasos                          36\n",
            "48                      Mochila                          36\n",
            "49                   Microondas                          36\n",
            "50      Bloques de construcción                          35\n",
            "Productos más vendidos en Tienda 1:                      Producto  Cantidad de veces vendidas\n",
            "0               Kit de bancas                          57\n",
            "1             Mesa de comedor                          56\n",
            "2                   Cama king                          56\n",
            "3                Set de ollas                          55\n",
            "4               Mesa de noche                          55\n",
            "5                    Smart TV                          54\n",
            "6                      Estufa                          53\n",
            "7          Cuerda para saltar                          53\n",
            "8         Modelado predictivo                          53\n",
            "9   Carrito de control remoto                          52\n",
            "10               Lavavajillas                          52\n",
            "11                  Bicicleta                          52\n",
            "12              Juego de mesa                          52\n",
            "13                  Pandereta                          51\n"
          ]
        }
      ]
    },
    {
      "cell_type": "code",
      "source": [
        "tiendas = tienda\n",
        "Producto_mas_vendido4 = tienda4['Producto'].value_counts().reset_index() #El método\n",
        "# .value_counts() en pandas se usa para contar cuántas veces aparece cada valor único en una columna de un DataFrame o en una Serie.\n",
        "Producto_mas_vendido4.columns =['Producto', 'Cantidad de veces vendidas']\n",
        "print(Producto_mas_vendido4)\n",
        "\n",
        "Productos_mas_vendidos = Producto_mas_vendido4['Cantidad de veces vendidas'] > 50\n",
        "productos_altas_ventas = Producto_mas_vendido4[Productos_mas_vendidos]\n",
        "\n",
        "# este if es a mi gusto\n",
        "if not productos_altas_ventas.empty:\n",
        "    print(f'Productos más vendidos en Tienda 1: {productos_altas_ventas}')\n",
        "else:\n",
        "    print(\"\\nNo hay productos con más de 58 ventas en Tienda 1.\")"
      ],
      "metadata": {
        "colab": {
          "base_uri": "https://localhost:8080/"
        },
        "id": "1Is-qdceWmt7",
        "outputId": "a8537e8f-b9fb-4bea-cf7b-1f138fa7438f"
      },
      "execution_count": null,
      "outputs": [
        {
          "output_type": "stream",
          "name": "stdout",
          "text": [
            "                       Producto  Cantidad de veces vendidas\n",
            "0                      Cama box                          62\n",
            "1                    Cubertería                          59\n",
            "2       Dashboards con Power BI                          56\n",
            "3                     Cama king                          56\n",
            "4     Carrito de control remoto                          55\n",
            "5               Mesa de comedor                          55\n",
            "6                 Mesa de noche                          55\n",
            "7                      Smart TV                          54\n",
            "8       Bloques de construcción                          54\n",
            "9                     Pandereta                          52\n",
            "10                    Impresora                          50\n",
            "11          Modelado predictivo                          50\n",
            "12            Asistente virtual                          50\n",
            "13                 Set de ollas                          50\n",
            "14          Balón de baloncesto                          50\n",
            "15                 Vaso térmico                          48\n",
            "16                    Iphone 15                          48\n",
            "17                  Muñeca bebé                          48\n",
            "18                      Batería                          48\n",
            "19            Balón de voleibol                          48\n",
            "20                Juego de mesa                          48\n",
            "21                   Microondas                          48\n",
            "22                       Estufa                          47\n",
            "23              Cubo mágico 8x8                          47\n",
            "24              Sofá reclinable                          47\n",
            "25               Dinosaurio Rex                          47\n",
            "26              Olla de presión                          46\n",
            "27                 Set de vasos                          46\n",
            "28                  Tablet ABXY                          45\n",
            "29                       Sillón                          45\n",
            "30                    Bicicleta                          45\n",
            "31               Mesa de centro                          44\n",
            "32                  Auriculares                          44\n",
            "33                 Lavavajillas                          43\n",
            "34           Cuerda para saltar                          43\n",
            "35    Iniciando en programación                          43\n",
            "36                      Mochila                          43\n",
            "37    Auriculares con micrófono                          42\n",
            "38                Kit de bancas                          42\n",
            "39                TV LED UHD 4K                          40\n",
            "40             Secadora de ropa                          40\n",
            "41             Silla de oficina                          40\n",
            "42                 Celular ABXY                          39\n",
            "43            Ajedrez de madera                          39\n",
            "44                   Smartwatch                          39\n",
            "45             Lavadora de ropa                          38\n",
            "46                 Refrigerador                          38\n",
            "47  Ciencia de datos con Python                          38\n",
            "48            Guitarra acústica                          37\n",
            "49                      Armario                          34\n",
            "50           Guitarra eléctrica                          33\n",
            "Productos más vendidos en Tienda 1:                     Producto  Cantidad de veces vendidas\n",
            "0                   Cama box                          62\n",
            "1                 Cubertería                          59\n",
            "2    Dashboards con Power BI                          56\n",
            "3                  Cama king                          56\n",
            "4  Carrito de control remoto                          55\n",
            "5            Mesa de comedor                          55\n",
            "6              Mesa de noche                          55\n",
            "7                   Smart TV                          54\n",
            "8    Bloques de construcción                          54\n",
            "9                  Pandereta                          52\n"
          ]
        }
      ]
    },
    {
      "cell_type": "markdown",
      "source": [
        "# 5. Envío promedio por tienda"
      ],
      "metadata": {
        "id": "Fl0cGi3bZKqU"
      }
    },
    {
      "cell_type": "code",
      "source": [
        "import pandas as pd\n",
        "\n",
        "tiendas = tienda, tienda2, tienda3, tienda4\n",
        "def promedioEnvio(tienda, tienda2, tienda3, tienda4):\n",
        "  promedio_envio1 = tienda['Costo de envío'].mean() #.mean()calcula el promedio automáticamente (suma / cantidad de elementos).\n",
        "  promedio_envio2 = tienda2['Costo de envío'].mean()\n",
        "  promedio_envio3 = tienda3['Costo de envío'].mean()\n",
        "  promedio_envio4 = tienda4['Costo de envío'].mean()\n",
        "  print(f'La calificación promedio de la tienda 1 es: {promedio_envio1}')\n",
        "  print(f'La calificación promedio de la tienda 2 es: {promedio_envio2}')\n",
        "  print(f'La calificación promedio de la tienda 3 es: {promedio_envio3}')\n",
        "  print(f'La calificación promedio de la tienda 4 es: {promedio_envio4}')\n"
      ],
      "metadata": {
        "id": "S2JeaCykZNy9"
      },
      "execution_count": null,
      "outputs": []
    },
    {
      "cell_type": "code",
      "source": [
        "promedioEnvio(tienda, tienda2, tienda3, tienda4)\n",
        "\n"
      ],
      "metadata": {
        "id": "0tSdCie9ZQlt",
        "colab": {
          "base_uri": "https://localhost:8080/"
        },
        "outputId": "0b9f026f-dffb-49c2-e015-bd37fbe5e6b5"
      },
      "execution_count": null,
      "outputs": [
        {
          "output_type": "stream",
          "name": "stdout",
          "text": [
            "La calificación promedio de la tienda 1 es: 26018.60958033065\n",
            "La calificación promedio de la tienda 2 es: 25216.235693090293\n",
            "La calificación promedio de la tienda 3 es: 24805.680373039424\n",
            "La calificación promedio de la tienda 4 es: 23459.457167090754\n"
          ]
        }
      ]
    },
    {
      "cell_type": "code",
      "source": [
        "envio_1 = 26018.60958033065\n",
        "envio_2 = 25216.235693090293\n",
        "envio_3 = 24805.680373039424\n",
        "envio_4 = 23459.457167090754\n",
        "\n",
        "redondeo = round(envio_1, 2,)\n",
        "redondeo2 = round(envio_2, 2,)\n",
        "redondeo3 = round(envio_3, 2,)\n",
        "redondeo4 = round(envio_4, 2,)\n",
        "\n",
        "\n",
        "print(redondeo, redondeo2, redondeo3, redondeo4)"
      ],
      "metadata": {
        "colab": {
          "base_uri": "https://localhost:8080/"
        },
        "id": "hJsWTvKjo3ZO",
        "outputId": "ee291015-e808-4adc-bd8b-ac2684d8e8c4"
      },
      "execution_count": null,
      "outputs": [
        {
          "output_type": "stream",
          "name": "stdout",
          "text": [
            "26018.61 25216.24 24805.68 23459.46\n"
          ]
        }
      ]
    },
    {
      "cell_type": "code",
      "source": [
        "import matplotlib.pyplot as plt\n",
        "\n",
        "fig, ax = plt.subplots()\n",
        "\n",
        "EnvioTienda = ['Envio_Tienda 1', 'Envio_Tienda 2', 'Envio_Tienda 3', 'Envio_Tienda 4']\n",
        "Promedio_Envio = [26018.61, 25216.24, 24805.68, 23459.46]\n",
        "bar_colors = ['green','red', 'blue', 'yellow']\n",
        "\n",
        "\n",
        "ax.bar(EnvioTienda, Promedio_Envio, color=bar_colors)\n",
        "ax.set_ylabel('Promedio de envios')\n",
        "ax.set_title('Costo de envío promedio para cada tienda')\n",
        "\n",
        "\n",
        "plt.show()\n"
      ],
      "metadata": {
        "colab": {
          "base_uri": "https://localhost:8080/",
          "height": 453
        },
        "id": "zibbwCSaE6gE",
        "outputId": "79983295-6f82-4d1a-fd69-91f04b9e8e91"
      },
      "execution_count": null,
      "outputs": [
        {
          "output_type": "display_data",
          "data": {
            "text/plain": [
              "<Figure size 640x480 with 1 Axes>"
            ],
            "image/png": "[encoded data removed]"
          },
          "metadata": {}
        }
      ]
    },
    {
      "cell_type": "markdown",
      "source": [
        "# **Identificacion de patrones relacionados  con la ubicacion de las compras**"
      ],
      "metadata": {
        "id": "dPiysqn4m8CZ"
      }
    },
    {
      "cell_type": "code",
      "source": [
        "\n",
        "import matplotlib.pyplot as plt\n",
        "import seaborn as sns\n",
        "import pandas as pd\n",
        "\n",
        "# Re-read the tienda DataFrame as it was overwritten\n",
        "\n",
        "\n",
        "# Assuming the 'lat' and 'lon' columns exist in the tienda DataFrame\n",
        "# If the column names are different, replace 'lat' and 'lon' with the correct names.\n",
        "plt.figure(figsize=(10, 8))\n",
        "sns.kdeplot(data=tienda, x='lat', y='lon', fill=True, cmap='hot', thresh=0.05)\n",
        "sns.kdeplot(data=tienda2, x='lat', y='lon', fill=True, cmap='hot', thresh=0.05)"
      ],
      "metadata": {
        "id": "5MTbUYYPFe9u",
        "colab": {
          "base_uri": "https://localhost:8080/",
          "height": 52
        },
        "outputId": "bb674d73-1d51-41ab-a61c-cf4a305f6dc8"
      },
      "execution_count": null,
      "outputs": [
        {
          "output_type": "execute_result",
          "data": {
            "text/plain": [
              "<Figure size 1000x800 with 0 Axes>"
            ]
          },
          "metadata": {},
          "execution_count": 25
        },
        {
          "output_type": "display_data",
          "data": {
            "text/plain": [
              "<Figure size 1000x800 with 0 Axes>"
            ]
          },
          "metadata": {}
        }
      ]
    },
    {
      "cell_type": "code",
      "source": [
        "sns.kdeplot(data=tienda, x='lat', y='lon', fill=True, cmap='hot', thresh=0.05)\n",
        "plt.title('Heatmap Tienda1')\n",
        "plt.xlabel('Longitud')\n",
        "plt.ylabel('Latitud')\n",
        "plt.grid(True)\n",
        "plt.show()"
      ],
      "metadata": {
        "colab": {
          "base_uri": "https://localhost:8080/",
          "height": 480
        },
        "id": "hQlBD_CUwrf8",
        "outputId": "b54c4e71-7932-4cd8-aa4c-2b82c036e924"
      },
      "execution_count": null,
      "outputs": [
        {
          "output_type": "display_data",
          "data": {
            "text/plain": [
              "<Figure size 640x480 with 1 Axes>"
            ],
            "image/png": "[encoded data removed]"
          },
          "metadata": {}
        }
      ]
    },
    {
      "cell_type": "code",
      "source": [
        "sns.kdeplot(data=tienda2, x='lat', y='lon', fill=True, cmap='hot', thresh=0.05)\n",
        "plt.title('Heatmap Tienda2')\n",
        "plt.xlabel('Longitud')\n",
        "plt.ylabel('Latitud')\n",
        "plt.grid(True)\n",
        "plt.show()"
      ],
      "metadata": {
        "colab": {
          "base_uri": "https://localhost:8080/",
          "height": 480
        },
        "id": "6UxQlzLxr8-P",
        "outputId": "80bc79cd-c50b-4b4b-a355-02167eb336e7"
      },
      "execution_count": null,
      "outputs": [
        {
          "output_type": "display_data",
          "data": {
            "text/plain": [
              "<Figure size 640x480 with 1 Axes>"
            ],
            "image/png": "[encoded data removed]"
          },
          "metadata": {}
        }
      ]
    },
    {
      "cell_type": "code",
      "source": [
        "sns.kdeplot(data=tienda3, x='lat', y='lon', fill=True, cmap='hot', thresh=0.05)\n",
        "plt.title('Heatmap Tienda3')\n",
        "plt.xlabel('Longitud')\n",
        "plt.ylabel('Latitud')\n",
        "plt.grid(True)\n",
        "plt.show()"
      ],
      "metadata": {
        "colab": {
          "base_uri": "https://localhost:8080/",
          "height": 480
        },
        "id": "c7kP_HvQwk0N",
        "outputId": "1ac21da0-f5b5-4621-b020-72b28458e61c"
      },
      "execution_count": null,
      "outputs": [
        {
          "output_type": "display_data",
          "data": {
            "text/plain": [
              "<Figure size 640x480 with 1 Axes>"
            ],
            "image/png": "[encoded data removed]"
          },
          "metadata": {}
        }
      ]
    },
    {
      "cell_type": "code",
      "source": [
        "sns.kdeplot(data=tienda4, x='lat', y='lon', fill=True, cmap='hot', thresh=0.05)\n",
        "plt.title('Heatmap Tienda4')\n",
        "plt.xlabel('Longitud')\n",
        "plt.ylabel('Latitud')\n",
        "plt.grid(True)\n",
        "plt.show()"
      ],
      "metadata": {
        "colab": {
          "base_uri": "https://localhost:8080/",
          "height": 480
        },
        "id": "xjTsRyrixAQT",
        "outputId": "63dcfa1e-0c10-4b54-e376-3081ece99027"
      },
      "execution_count": null,
      "outputs": [
        {
          "output_type": "display_data",
          "data": {
            "text/plain": [
              "<Figure size 640x480 with 1 Axes>"
            ],
            "image/png": "[encoded data removed]"
          },
          "metadata": {}
        }
      ]
    },
    {
      "cell_type": "markdown",
      "source": [
        "## **Objetivo:**\n",
        "Apoyar al Sr. Juan en la venta de una de sus cuatro tiendas **Alura Store** para financiar un nuevo emprendimiento, identificando cuál de ellas tiene el menor rendimiento operativo y financiero.\n",
        "\n",
        "Análisis Realizado:\n",
        "Se evaluaron indicadores clave de desempeño para cada tienda:\n",
        "\n",
        "Ingresos Totales:\n",
        "\n",
        "*   Tienda 1: $1.150.880.400\n",
        "\n",
        "*   Tienda 2: $1.116.343.500\n",
        "\n",
        "*   Tienda 3: $1.098.019.600\n",
        "\n",
        "*   Tienda 4: $1.038.375.700\n",
        "\n",
        "Diferencia entre la tienda 1 y la tienda 4: **–$112.504.700**\n",
        "\n",
        "**Ventas por Categoría:**\n",
        "\n",
        "Tiendas 1 y 3 lideran en “Muebles” y “Electrónicos”. La tienda 4 solo destaca levemente en “Juguetes”.\n",
        "\n",
        "**Calificaciones Promedio:**\n",
        "\n",
        "Similares en todas las tiendas. La tienda 1, con más ventas, tiene la calificación más baja. La tienda 4 no sobresale en ningún aspecto.\n",
        "\n",
        "**Costo de Envío Promedio:**\n",
        "\n",
        "Tienda 1 (más ventas) → envío más caro.\n",
        "Tienda 4 (menos ventas) → envío más barato.\n",
        "\n",
        "**Conclusión y Recomendación:**\n",
        "\n",
        "Se recomienda vender **la tienda 4.**\n",
        "\n",
        "Motivos:\n",
        "\n",
        "* Es la tienda con menor ingreso acumulado.\n",
        "\n",
        "* Tiene menor volumen de ventas y menor impacto por categoría.\n",
        "\n",
        "* No destaca ni en satisfacción ni en eficiencia logística.\n",
        "\n",
        "**Beneficio esperado:**\n",
        "\n",
        "Vender esta tienda permitirá al Sr. Juan recuperar capital de una unidad poco rentable y redirigirlo hacia nuevas oportunidades con mayor potencial de crecimiento.\n",
        "\n"
      ],
      "metadata": {
        "id": "7jeOYci8xktR"
      }
    },
    {
      "cell_type": "code",
      "source": [],
      "metadata": {
        "id": "Srfl79q8xj0c"
      },
      "execution_count": null,
      "outputs": []
    }
  ]
}